{
 "cells": [
  {
   "cell_type": "markdown",
   "metadata": {},
   "source": [
    "# Speed Networking Pairing Problem:\n",
    "My wife is hosting a speed networking event on belhalf of her employer. For this event, there is availability for 20 participants. These **20 participants** will form **10 groups of 2** and spend ~5 minutes in each group. Once the time limit expires, the participants will then form another 10 groups of 2 for the following 5 minutes. This process will repeat until every participant has a ~5 minute networking session with **Every** other participant. Since this is __*Speed* Networking__, two separate participants can only join **one** group together throughout the entire process. To clarify, no two participants will meet twice.\n",
    "\n",
    "### Goal:\n",
    "Make a simple method to form these groups where there is a logical flow between each cycle"
   ]
  },
  {
   "cell_type": "code",
   "execution_count": 72,
   "metadata": {},
   "outputs": [],
   "source": [
    "import numpy as np\n",
    "from plotly.offline import iplot\n",
    "from plotly.graph_objects import *"
   ]
  },
  {
   "cell_type": "markdown",
   "metadata": {},
   "source": [
    "### Notes:<br>This is a combinatorics problem.\n",
    "\n",
    "Let each participant be defined as a unique member of the set of postitive integers $[1,20].$<br>\n",
    "The full set of `groups` are defined as $All\\ Groups$\n",
    "$$ All\\ Groups={1,\\ 2,\\ 3,\\ ...,\\ 18,\\ 19,\\ 20  \\choose 2}$$\n",
    "\n",
    "The library itertools has a combinations subclass to simplify the process. This will return the full unique set of groupings that will be used throughout the Networking Event.\n",
    "\n",
    "## Questions:\n",
    "- How many total groups are there throughout the networking event?\n",
    "- How many `rounds` are needed for all 20 participants to network with everyone exactly **once**\n",
    "- What should the process that shifts rounds look like"
   ]
  },
  {
   "cell_type": "markdown",
   "metadata": {},
   "source": [
    "### Notes:<br>This is a combinatorics problem.\n",
    "\n",
    "Let each participant be defined as a unique member of the set of postitive integers $[1,20].$<br>\n",
    "The full set of `groups` are defined as $All\\ Groups$\n",
    "$$ All\\ Groups={1,\\ 2,\\ 3,\\ ...,\\ 18,\\ 19,\\ 20  \\choose 2}$$\n",
    "\n",
    "The library itertools has a combinations subclass to simplify the process. This will return the full unique set of groupings that will be used throughout the Networking Event.\n",
    "\n",
    "## Questions:\n",
    "- How many total groups are there throughout the networking event?\n",
    "- How many `rounds` are needed for all 20 participants to network with everyone exactly **once**\n",
    "- What should the process that shifts rounds look like"
   ]
  },
  {
   "cell_type": "code",
   "execution_count": 73,
   "metadata": {},
   "outputs": [],
   "source": [
    "from itertools import combinations"
   ]
  },
  {
   "cell_type": "code",
   "execution_count": 74,
   "metadata": {},
   "outputs": [],
   "source": [
    "pools = np.asarray(list(combinations(range(1,21),2)))"
   ]
  },
  {
   "cell_type": "code",
   "execution_count": 255,
   "metadata": {},
   "outputs": [
    {
     "data": {
      "text/plain": [
       "array([[ 1,  2],\n",
       "       [ 1,  3],\n",
       "       [ 1,  4],\n",
       "       [ 1,  5],\n",
       "       [ 1,  6],\n",
       "       [ 1,  7],\n",
       "       [ 1,  8],\n",
       "       [ 1,  9],\n",
       "       [ 1, 10],\n",
       "       [ 1, 11]])"
      ]
     },
     "execution_count": 255,
     "metadata": {},
     "output_type": "execute_result"
    }
   ],
   "source": [
    "pools[:10]"
   ]
  },
  {
   "cell_type": "code",
   "execution_count": 76,
   "metadata": {},
   "outputs": [
    {
     "name": "stdout",
     "output_type": "stream",
     "text": [
      "There are 190 unique groupings throughout the Speed Networking Event\n"
     ]
    }
   ],
   "source": [
    "print (f\"There are {pools.shape[0]} unique groupings throughout the Speed Networking Event\")"
   ]
  },
  {
   "cell_type": "code",
   "execution_count": 77,
   "metadata": {},
   "outputs": [
    {
     "name": "stdout",
     "output_type": "stream",
     "text": [
      "Since there are 20 participants, there are 10 groups of 2 participants.\n",
      "Given that there are 190 total unique groups, then there must be 19.0 cycles necessary for everyone to meet once\n"
     ]
    }
   ],
   "source": [
    "print (f\"Since there are 20 participants, there are 10 groups of 2 participants.\\nGiven that there are 190 total unique groups, then there must be {190/10} cycles necessary for everyone to meet once\")"
   ]
  },
  {
   "cell_type": "markdown",
   "metadata": {},
   "source": [
    "### Summary:\n",
    "- There are 190 total unique groups\n",
    "- There are 19 cycles\n",
    "- There are 10 groups of 2 each cycle"
   ]
  },
  {
   "cell_type": "markdown",
   "metadata": {},
   "source": [
    "### Process:\n",
    "- list the numbers in two rows: 1 - 10, 11 - 20\n",
    "    - values at the same horizontal position make up each grouping\n",
    "        ie: (1,10), (2,12), .... (10,20)\n",
    "- fix one participant inplace, and rotate the rest clockwise one position\n",
    "- find next grouings,\n",
    "    ie: (1,12), (11,13), (2,10), ..., (9, 10)\n",
    "- repeat for 19 cycles"
   ]
  },
  {
   "cell_type": "code",
   "execution_count": 130,
   "metadata": {},
   "outputs": [
    {
     "name": "stdout",
     "output_type": "stream",
     "text": [
      "[[ 1  2  3  4  5  6  7  8  9 10]\n",
      " [11 12 13 14 15 16 17 18 19 20]]\n"
     ]
    }
   ],
   "source": [
    "start = np.arange(1,21)\n",
    "print(start.reshape(2,10))"
   ]
  },
  {
   "cell_type": "code",
   "execution_count": 274,
   "metadata": {},
   "outputs": [],
   "source": [
    "def gen_pairings_list(lst):\n",
    "    lst = np.asarray(lst)\n",
    "    N = lst.shape[0]\n",
    "    \n",
    "    if N %2 != 0:\n",
    "        raise(ValueError(f\"Array lst is not even!\\nLst has {N} values\"))\n",
    "    \n",
    "    # reshape lst to 2,N/2 to generate pairings\n",
    "    pairings = lst.reshape(2, N//2)\n",
    "    \n",
    "    # Transpose the pairings array to return an array of N/2 (10), 2\n",
    "    return pairings.T\n",
    "\n",
    "\n",
    "    \n",
    "    \n",
    "def cycle_list(lst, fixed_val=1):\n",
    "    \n",
    "    def reverse_half2(arr):\n",
    "        # helper function to reverse order of second half of array in 1d array\n",
    "        N = arr.shape[0]\n",
    "        half_ind = N//2\n",
    "        if N % 2 != 0:\n",
    "            raise(ValueError(f\"List lst is length {N}\\n\\tlst must be of even length!\"))\n",
    "\n",
    "        res = arr.copy() # copy array\n",
    "        res[half_ind:] = arr[half_ind:][::-1] # reverse order of second half of values\n",
    "        return res    \n",
    "    \n",
    "    lst = np.asarray(lst)\n",
    "    N = lst.shape[0]\n",
    "    # check for even length array and reverse second half of the array\n",
    "    lst = reverse_half2(lst)\n",
    "\n",
    "        \n",
    "    res = np.zeros(N, dtype='int64') # create results array\n",
    "    fv_ind = np.where(lst == fixed_val)[0][0] # get index of fixed value from lst\n",
    "    \n",
    "    # loop through lst and insert values to res at appropriate index\n",
    "    for idx, val in enumerate(lst):\n",
    "        fv_next_ind = (fv_ind + 1) % N # index after fixed value\n",
    "        next_ind = (idx + 1) % N # find upcomming index\n",
    "        \n",
    "        if val == fixed_val:\n",
    "            res[fv_ind] = fixed_val\n",
    "        elif (idx + 1) % N == fv_ind:\n",
    "            res[fv_next_ind] = val\n",
    "        else:\n",
    "            res[next_ind] = val\n",
    "    res = reverse_half2(res) # reverse second half of results array\n",
    "    return res"
   ]
  },
  {
   "cell_type": "code",
   "execution_count": 330,
   "metadata": {},
   "outputs": [],
   "source": [
    "round_lists = dict()\n",
    "\n",
    "for cycle in range(19):\n",
    "    # initialize round_lists/pairings with start\n",
    "    if cycle == 0:\n",
    "        round_lists.update({cycle + 1 : start})\n",
    "    else:\n",
    "        # fill remaining round_lists with cycle_list of prior round list\n",
    "        round_lists.update({cycle + 1 : cycle_list(round_lists[cycle])})\n",
    "    # insert pairings to dict\n",
    "round_pairings = {i:round_lists[i].reshape(2,10).T for i in range(1,20)}"
   ]
  },
  {
   "cell_type": "code",
   "execution_count": 358,
   "metadata": {},
   "outputs": [],
   "source": [
    "from ipywidgets import widget, interact"
   ]
  },
  {
   "cell_type": "code",
   "execution_count": 359,
   "metadata": {},
   "outputs": [],
   "source": [
    "from plotly.offline import iplot\n",
    "from plotly.graph_objects import *"
   ]
  },
  {
   "cell_type": "code",
   "execution_count": 400,
   "metadata": {},
   "outputs": [],
   "source": [
    "R = 1\n",
    "\n",
    "def cycle_plot(R):\n",
    "    \n",
    "    data = round_pairings[R]\n",
    "    \n",
    "    return iplot({\n",
    "        'data':[{'type':'scatter',\n",
    "                'x': data[:,0],\n",
    "                'y': data[:,1],\n",
    "                'text':data,\n",
    "                 'textposition':'top center',\n",
    "                'opacity':0.5,\n",
    "                'mode':'markers+lines+text'}],\n",
    "        'layout':{'title':f\"Speed Networkign Pairings:<br>Round #{R}\",\n",
    "                 'autosize':False,\n",
    "                 'width':1000,\n",
    "                 'height':700}\n",
    "    })"
   ]
  },
  {
   "cell_type": "code",
   "execution_count": 399,
   "metadata": {},
   "outputs": [
    {
     "data": {
      "application/vnd.plotly.v1+json": {
       "config": {
        "linkText": "Export to plot.ly",
        "plotlyServerURL": "https://plot.ly",
        "showLink": false
       },
       "data": [
        {
         "mode": "markers+lines+text",
         "name": "cycle 1",
         "opacity": 0.5,
         "text": [
          [
           1,
           11
          ],
          [
           2,
           12
          ],
          [
           3,
           13
          ],
          [
           4,
           14
          ],
          [
           5,
           15
          ],
          [
           6,
           16
          ],
          [
           7,
           17
          ],
          [
           8,
           18
          ],
          [
           9,
           19
          ],
          [
           10,
           20
          ]
         ],
         "textposition": "top center",
         "type": "scatter",
         "visible": true,
         "x": [
          1,
          2,
          3,
          4,
          5,
          6,
          7,
          8,
          9,
          10
         ],
         "y": [
          11,
          12,
          13,
          14,
          15,
          16,
          17,
          18,
          19,
          20
         ]
        },
        {
         "mode": "markers+lines+text",
         "name": "cycle 2",
         "opacity": 0.5,
         "text": [
          [
           1,
           12
          ],
          [
           11,
           13
          ],
          [
           2,
           14
          ],
          [
           3,
           15
          ],
          [
           4,
           16
          ],
          [
           5,
           17
          ],
          [
           6,
           18
          ],
          [
           7,
           19
          ],
          [
           8,
           20
          ],
          [
           9,
           10
          ]
         ],
         "textposition": "top center",
         "type": "scatter",
         "x": [
          1,
          11,
          2,
          3,
          4,
          5,
          6,
          7,
          8,
          9
         ],
         "y": [
          12,
          13,
          14,
          15,
          16,
          17,
          18,
          19,
          20,
          10
         ]
        },
        {
         "mode": "markers+lines+text",
         "name": "cycle 3",
         "opacity": 0.5,
         "text": [
          [
           1,
           13
          ],
          [
           12,
           14
          ],
          [
           11,
           15
          ],
          [
           2,
           16
          ],
          [
           3,
           17
          ],
          [
           4,
           18
          ],
          [
           5,
           19
          ],
          [
           6,
           20
          ],
          [
           7,
           10
          ],
          [
           8,
           9
          ]
         ],
         "textposition": "top center",
         "type": "scatter",
         "x": [
          1,
          12,
          11,
          2,
          3,
          4,
          5,
          6,
          7,
          8
         ],
         "y": [
          13,
          14,
          15,
          16,
          17,
          18,
          19,
          20,
          10,
          9
         ]
        },
        {
         "mode": "markers+lines+text",
         "name": "cycle 4",
         "opacity": 0.5,
         "text": [
          [
           1,
           14
          ],
          [
           13,
           15
          ],
          [
           12,
           16
          ],
          [
           11,
           17
          ],
          [
           2,
           18
          ],
          [
           3,
           19
          ],
          [
           4,
           20
          ],
          [
           5,
           10
          ],
          [
           6,
           9
          ],
          [
           7,
           8
          ]
         ],
         "textposition": "top center",
         "type": "scatter",
         "x": [
          1,
          13,
          12,
          11,
          2,
          3,
          4,
          5,
          6,
          7
         ],
         "y": [
          14,
          15,
          16,
          17,
          18,
          19,
          20,
          10,
          9,
          8
         ]
        },
        {
         "mode": "markers+lines+text",
         "name": "cycle 5",
         "opacity": 0.5,
         "text": [
          [
           1,
           15
          ],
          [
           14,
           16
          ],
          [
           13,
           17
          ],
          [
           12,
           18
          ],
          [
           11,
           19
          ],
          [
           2,
           20
          ],
          [
           3,
           10
          ],
          [
           4,
           9
          ],
          [
           5,
           8
          ],
          [
           6,
           7
          ]
         ],
         "textposition": "top center",
         "type": "scatter",
         "x": [
          1,
          14,
          13,
          12,
          11,
          2,
          3,
          4,
          5,
          6
         ],
         "y": [
          15,
          16,
          17,
          18,
          19,
          20,
          10,
          9,
          8,
          7
         ]
        },
        {
         "mode": "markers+lines+text",
         "name": "cycle 6",
         "opacity": 0.5,
         "text": [
          [
           1,
           16
          ],
          [
           15,
           17
          ],
          [
           14,
           18
          ],
          [
           13,
           19
          ],
          [
           12,
           20
          ],
          [
           11,
           10
          ],
          [
           2,
           9
          ],
          [
           3,
           8
          ],
          [
           4,
           7
          ],
          [
           5,
           6
          ]
         ],
         "textposition": "top center",
         "type": "scatter",
         "x": [
          1,
          15,
          14,
          13,
          12,
          11,
          2,
          3,
          4,
          5
         ],
         "y": [
          16,
          17,
          18,
          19,
          20,
          10,
          9,
          8,
          7,
          6
         ]
        },
        {
         "mode": "markers+lines+text",
         "name": "cycle 7",
         "opacity": 0.5,
         "text": [
          [
           1,
           17
          ],
          [
           16,
           18
          ],
          [
           15,
           19
          ],
          [
           14,
           20
          ],
          [
           13,
           10
          ],
          [
           12,
           9
          ],
          [
           11,
           8
          ],
          [
           2,
           7
          ],
          [
           3,
           6
          ],
          [
           4,
           5
          ]
         ],
         "textposition": "top center",
         "type": "scatter",
         "x": [
          1,
          16,
          15,
          14,
          13,
          12,
          11,
          2,
          3,
          4
         ],
         "y": [
          17,
          18,
          19,
          20,
          10,
          9,
          8,
          7,
          6,
          5
         ]
        },
        {
         "mode": "markers+lines+text",
         "name": "cycle 8",
         "opacity": 0.5,
         "text": [
          [
           1,
           18
          ],
          [
           17,
           19
          ],
          [
           16,
           20
          ],
          [
           15,
           10
          ],
          [
           14,
           9
          ],
          [
           13,
           8
          ],
          [
           12,
           7
          ],
          [
           11,
           6
          ],
          [
           2,
           5
          ],
          [
           3,
           4
          ]
         ],
         "textposition": "top center",
         "type": "scatter",
         "x": [
          1,
          17,
          16,
          15,
          14,
          13,
          12,
          11,
          2,
          3
         ],
         "y": [
          18,
          19,
          20,
          10,
          9,
          8,
          7,
          6,
          5,
          4
         ]
        },
        {
         "mode": "markers+lines+text",
         "name": "cycle 9",
         "opacity": 0.5,
         "text": [
          [
           1,
           19
          ],
          [
           18,
           20
          ],
          [
           17,
           10
          ],
          [
           16,
           9
          ],
          [
           15,
           8
          ],
          [
           14,
           7
          ],
          [
           13,
           6
          ],
          [
           12,
           5
          ],
          [
           11,
           4
          ],
          [
           2,
           3
          ]
         ],
         "textposition": "top center",
         "type": "scatter",
         "x": [
          1,
          18,
          17,
          16,
          15,
          14,
          13,
          12,
          11,
          2
         ],
         "y": [
          19,
          20,
          10,
          9,
          8,
          7,
          6,
          5,
          4,
          3
         ]
        },
        {
         "mode": "markers+lines+text",
         "name": "cycle 10",
         "opacity": 0.5,
         "text": [
          [
           1,
           20
          ],
          [
           19,
           10
          ],
          [
           18,
           9
          ],
          [
           17,
           8
          ],
          [
           16,
           7
          ],
          [
           15,
           6
          ],
          [
           14,
           5
          ],
          [
           13,
           4
          ],
          [
           12,
           3
          ],
          [
           11,
           2
          ]
         ],
         "textposition": "top center",
         "type": "scatter",
         "x": [
          1,
          19,
          18,
          17,
          16,
          15,
          14,
          13,
          12,
          11
         ],
         "y": [
          20,
          10,
          9,
          8,
          7,
          6,
          5,
          4,
          3,
          2
         ]
        },
        {
         "mode": "markers+lines+text",
         "name": "cycle 11",
         "opacity": 0.5,
         "text": [
          [
           1,
           10
          ],
          [
           20,
           9
          ],
          [
           19,
           8
          ],
          [
           18,
           7
          ],
          [
           17,
           6
          ],
          [
           16,
           5
          ],
          [
           15,
           4
          ],
          [
           14,
           3
          ],
          [
           13,
           2
          ],
          [
           12,
           11
          ]
         ],
         "textposition": "top center",
         "type": "scatter",
         "x": [
          1,
          20,
          19,
          18,
          17,
          16,
          15,
          14,
          13,
          12
         ],
         "y": [
          10,
          9,
          8,
          7,
          6,
          5,
          4,
          3,
          2,
          11
         ]
        },
        {
         "mode": "markers+lines+text",
         "name": "cycle 12",
         "opacity": 0.5,
         "text": [
          [
           1,
           9
          ],
          [
           10,
           8
          ],
          [
           20,
           7
          ],
          [
           19,
           6
          ],
          [
           18,
           5
          ],
          [
           17,
           4
          ],
          [
           16,
           3
          ],
          [
           15,
           2
          ],
          [
           14,
           11
          ],
          [
           13,
           12
          ]
         ],
         "textposition": "top center",
         "type": "scatter",
         "x": [
          1,
          10,
          20,
          19,
          18,
          17,
          16,
          15,
          14,
          13
         ],
         "y": [
          9,
          8,
          7,
          6,
          5,
          4,
          3,
          2,
          11,
          12
         ]
        },
        {
         "mode": "markers+lines+text",
         "name": "cycle 13",
         "opacity": 0.5,
         "text": [
          [
           1,
           8
          ],
          [
           9,
           7
          ],
          [
           10,
           6
          ],
          [
           20,
           5
          ],
          [
           19,
           4
          ],
          [
           18,
           3
          ],
          [
           17,
           2
          ],
          [
           16,
           11
          ],
          [
           15,
           12
          ],
          [
           14,
           13
          ]
         ],
         "textposition": "top center",
         "type": "scatter",
         "x": [
          1,
          9,
          10,
          20,
          19,
          18,
          17,
          16,
          15,
          14
         ],
         "y": [
          8,
          7,
          6,
          5,
          4,
          3,
          2,
          11,
          12,
          13
         ]
        },
        {
         "mode": "markers+lines+text",
         "name": "cycle 14",
         "opacity": 0.5,
         "text": [
          [
           1,
           7
          ],
          [
           8,
           6
          ],
          [
           9,
           5
          ],
          [
           10,
           4
          ],
          [
           20,
           3
          ],
          [
           19,
           2
          ],
          [
           18,
           11
          ],
          [
           17,
           12
          ],
          [
           16,
           13
          ],
          [
           15,
           14
          ]
         ],
         "textposition": "top center",
         "type": "scatter",
         "x": [
          1,
          8,
          9,
          10,
          20,
          19,
          18,
          17,
          16,
          15
         ],
         "y": [
          7,
          6,
          5,
          4,
          3,
          2,
          11,
          12,
          13,
          14
         ]
        },
        {
         "mode": "markers+lines+text",
         "name": "cycle 15",
         "opacity": 0.5,
         "text": [
          [
           1,
           6
          ],
          [
           7,
           5
          ],
          [
           8,
           4
          ],
          [
           9,
           3
          ],
          [
           10,
           2
          ],
          [
           20,
           11
          ],
          [
           19,
           12
          ],
          [
           18,
           13
          ],
          [
           17,
           14
          ],
          [
           16,
           15
          ]
         ],
         "textposition": "top center",
         "type": "scatter",
         "x": [
          1,
          7,
          8,
          9,
          10,
          20,
          19,
          18,
          17,
          16
         ],
         "y": [
          6,
          5,
          4,
          3,
          2,
          11,
          12,
          13,
          14,
          15
         ]
        },
        {
         "mode": "markers+lines+text",
         "name": "cycle 16",
         "opacity": 0.5,
         "text": [
          [
           1,
           5
          ],
          [
           6,
           4
          ],
          [
           7,
           3
          ],
          [
           8,
           2
          ],
          [
           9,
           11
          ],
          [
           10,
           12
          ],
          [
           20,
           13
          ],
          [
           19,
           14
          ],
          [
           18,
           15
          ],
          [
           17,
           16
          ]
         ],
         "textposition": "top center",
         "type": "scatter",
         "x": [
          1,
          6,
          7,
          8,
          9,
          10,
          20,
          19,
          18,
          17
         ],
         "y": [
          5,
          4,
          3,
          2,
          11,
          12,
          13,
          14,
          15,
          16
         ]
        },
        {
         "mode": "markers+lines+text",
         "name": "cycle 17",
         "opacity": 0.5,
         "text": [
          [
           1,
           4
          ],
          [
           5,
           3
          ],
          [
           6,
           2
          ],
          [
           7,
           11
          ],
          [
           8,
           12
          ],
          [
           9,
           13
          ],
          [
           10,
           14
          ],
          [
           20,
           15
          ],
          [
           19,
           16
          ],
          [
           18,
           17
          ]
         ],
         "textposition": "top center",
         "type": "scatter",
         "x": [
          1,
          5,
          6,
          7,
          8,
          9,
          10,
          20,
          19,
          18
         ],
         "y": [
          4,
          3,
          2,
          11,
          12,
          13,
          14,
          15,
          16,
          17
         ]
        },
        {
         "mode": "markers+lines+text",
         "name": "cycle 18",
         "opacity": 0.5,
         "text": [
          [
           1,
           3
          ],
          [
           4,
           2
          ],
          [
           5,
           11
          ],
          [
           6,
           12
          ],
          [
           7,
           13
          ],
          [
           8,
           14
          ],
          [
           9,
           15
          ],
          [
           10,
           16
          ],
          [
           20,
           17
          ],
          [
           19,
           18
          ]
         ],
         "textposition": "top center",
         "type": "scatter",
         "x": [
          1,
          4,
          5,
          6,
          7,
          8,
          9,
          10,
          20,
          19
         ],
         "y": [
          3,
          2,
          11,
          12,
          13,
          14,
          15,
          16,
          17,
          18
         ]
        },
        {
         "mode": "markers+lines+text",
         "name": "cycle 19",
         "opacity": 0.5,
         "text": [
          [
           1,
           2
          ],
          [
           3,
           11
          ],
          [
           4,
           12
          ],
          [
           5,
           13
          ],
          [
           6,
           14
          ],
          [
           7,
           15
          ],
          [
           8,
           16
          ],
          [
           9,
           17
          ],
          [
           10,
           18
          ],
          [
           20,
           19
          ]
         ],
         "textposition": "top center",
         "type": "scatter",
         "x": [
          1,
          3,
          4,
          5,
          6,
          7,
          8,
          9,
          10,
          20
         ],
         "y": [
          2,
          11,
          12,
          13,
          14,
          15,
          16,
          17,
          18,
          19
         ]
        }
       ],
       "layout": {
        "autosize": false,
        "height": 700,
        "template": {
         "data": {
          "bar": [
           {
            "error_x": {
             "color": "#2a3f5f"
            },
            "error_y": {
             "color": "#2a3f5f"
            },
            "marker": {
             "line": {
              "color": "#E5ECF6",
              "width": 0.5
             }
            },
            "type": "bar"
           }
          ],
          "barpolar": [
           {
            "marker": {
             "line": {
              "color": "#E5ECF6",
              "width": 0.5
             }
            },
            "type": "barpolar"
           }
          ],
          "carpet": [
           {
            "aaxis": {
             "endlinecolor": "#2a3f5f",
             "gridcolor": "white",
             "linecolor": "white",
             "minorgridcolor": "white",
             "startlinecolor": "#2a3f5f"
            },
            "baxis": {
             "endlinecolor": "#2a3f5f",
             "gridcolor": "white",
             "linecolor": "white",
             "minorgridcolor": "white",
             "startlinecolor": "#2a3f5f"
            },
            "type": "carpet"
           }
          ],
          "choropleth": [
           {
            "colorbar": {
             "outlinewidth": 0,
             "ticks": ""
            },
            "type": "choropleth"
           }
          ],
          "contour": [
           {
            "colorbar": {
             "outlinewidth": 0,
             "ticks": ""
            },
            "colorscale": [
             [
              0,
              "#0d0887"
             ],
             [
              0.1111111111111111,
              "#46039f"
             ],
             [
              0.2222222222222222,
              "#7201a8"
             ],
             [
              0.3333333333333333,
              "#9c179e"
             ],
             [
              0.4444444444444444,
              "#bd3786"
             ],
             [
              0.5555555555555556,
              "#d8576b"
             ],
             [
              0.6666666666666666,
              "#ed7953"
             ],
             [
              0.7777777777777778,
              "#fb9f3a"
             ],
             [
              0.8888888888888888,
              "#fdca26"
             ],
             [
              1,
              "#f0f921"
             ]
            ],
            "type": "contour"
           }
          ],
          "contourcarpet": [
           {
            "colorbar": {
             "outlinewidth": 0,
             "ticks": ""
            },
            "type": "contourcarpet"
           }
          ],
          "heatmap": [
           {
            "colorbar": {
             "outlinewidth": 0,
             "ticks": ""
            },
            "colorscale": [
             [
              0,
              "#0d0887"
             ],
             [
              0.1111111111111111,
              "#46039f"
             ],
             [
              0.2222222222222222,
              "#7201a8"
             ],
             [
              0.3333333333333333,
              "#9c179e"
             ],
             [
              0.4444444444444444,
              "#bd3786"
             ],
             [
              0.5555555555555556,
              "#d8576b"
             ],
             [
              0.6666666666666666,
              "#ed7953"
             ],
             [
              0.7777777777777778,
              "#fb9f3a"
             ],
             [
              0.8888888888888888,
              "#fdca26"
             ],
             [
              1,
              "#f0f921"
             ]
            ],
            "type": "heatmap"
           }
          ],
          "heatmapgl": [
           {
            "colorbar": {
             "outlinewidth": 0,
             "ticks": ""
            },
            "colorscale": [
             [
              0,
              "#0d0887"
             ],
             [
              0.1111111111111111,
              "#46039f"
             ],
             [
              0.2222222222222222,
              "#7201a8"
             ],
             [
              0.3333333333333333,
              "#9c179e"
             ],
             [
              0.4444444444444444,
              "#bd3786"
             ],
             [
              0.5555555555555556,
              "#d8576b"
             ],
             [
              0.6666666666666666,
              "#ed7953"
             ],
             [
              0.7777777777777778,
              "#fb9f3a"
             ],
             [
              0.8888888888888888,
              "#fdca26"
             ],
             [
              1,
              "#f0f921"
             ]
            ],
            "type": "heatmapgl"
           }
          ],
          "histogram": [
           {
            "marker": {
             "colorbar": {
              "outlinewidth": 0,
              "ticks": ""
             }
            },
            "type": "histogram"
           }
          ],
          "histogram2d": [
           {
            "colorbar": {
             "outlinewidth": 0,
             "ticks": ""
            },
            "colorscale": [
             [
              0,
              "#0d0887"
             ],
             [
              0.1111111111111111,
              "#46039f"
             ],
             [
              0.2222222222222222,
              "#7201a8"
             ],
             [
              0.3333333333333333,
              "#9c179e"
             ],
             [
              0.4444444444444444,
              "#bd3786"
             ],
             [
              0.5555555555555556,
              "#d8576b"
             ],
             [
              0.6666666666666666,
              "#ed7953"
             ],
             [
              0.7777777777777778,
              "#fb9f3a"
             ],
             [
              0.8888888888888888,
              "#fdca26"
             ],
             [
              1,
              "#f0f921"
             ]
            ],
            "type": "histogram2d"
           }
          ],
          "histogram2dcontour": [
           {
            "colorbar": {
             "outlinewidth": 0,
             "ticks": ""
            },
            "colorscale": [
             [
              0,
              "#0d0887"
             ],
             [
              0.1111111111111111,
              "#46039f"
             ],
             [
              0.2222222222222222,
              "#7201a8"
             ],
             [
              0.3333333333333333,
              "#9c179e"
             ],
             [
              0.4444444444444444,
              "#bd3786"
             ],
             [
              0.5555555555555556,
              "#d8576b"
             ],
             [
              0.6666666666666666,
              "#ed7953"
             ],
             [
              0.7777777777777778,
              "#fb9f3a"
             ],
             [
              0.8888888888888888,
              "#fdca26"
             ],
             [
              1,
              "#f0f921"
             ]
            ],
            "type": "histogram2dcontour"
           }
          ],
          "mesh3d": [
           {
            "colorbar": {
             "outlinewidth": 0,
             "ticks": ""
            },
            "type": "mesh3d"
           }
          ],
          "parcoords": [
           {
            "line": {
             "colorbar": {
              "outlinewidth": 0,
              "ticks": ""
             }
            },
            "type": "parcoords"
           }
          ],
          "scatter": [
           {
            "marker": {
             "colorbar": {
              "outlinewidth": 0,
              "ticks": ""
             }
            },
            "type": "scatter"
           }
          ],
          "scatter3d": [
           {
            "line": {
             "colorbar": {
              "outlinewidth": 0,
              "ticks": ""
             }
            },
            "marker": {
             "colorbar": {
              "outlinewidth": 0,
              "ticks": ""
             }
            },
            "type": "scatter3d"
           }
          ],
          "scattercarpet": [
           {
            "marker": {
             "colorbar": {
              "outlinewidth": 0,
              "ticks": ""
             }
            },
            "type": "scattercarpet"
           }
          ],
          "scattergeo": [
           {
            "marker": {
             "colorbar": {
              "outlinewidth": 0,
              "ticks": ""
             }
            },
            "type": "scattergeo"
           }
          ],
          "scattergl": [
           {
            "marker": {
             "colorbar": {
              "outlinewidth": 0,
              "ticks": ""
             }
            },
            "type": "scattergl"
           }
          ],
          "scattermapbox": [
           {
            "marker": {
             "colorbar": {
              "outlinewidth": 0,
              "ticks": ""
             }
            },
            "type": "scattermapbox"
           }
          ],
          "scatterpolar": [
           {
            "marker": {
             "colorbar": {
              "outlinewidth": 0,
              "ticks": ""
             }
            },
            "type": "scatterpolar"
           }
          ],
          "scatterpolargl": [
           {
            "marker": {
             "colorbar": {
              "outlinewidth": 0,
              "ticks": ""
             }
            },
            "type": "scatterpolargl"
           }
          ],
          "scatterternary": [
           {
            "marker": {
             "colorbar": {
              "outlinewidth": 0,
              "ticks": ""
             }
            },
            "type": "scatterternary"
           }
          ],
          "surface": [
           {
            "colorbar": {
             "outlinewidth": 0,
             "ticks": ""
            },
            "colorscale": [
             [
              0,
              "#0d0887"
             ],
             [
              0.1111111111111111,
              "#46039f"
             ],
             [
              0.2222222222222222,
              "#7201a8"
             ],
             [
              0.3333333333333333,
              "#9c179e"
             ],
             [
              0.4444444444444444,
              "#bd3786"
             ],
             [
              0.5555555555555556,
              "#d8576b"
             ],
             [
              0.6666666666666666,
              "#ed7953"
             ],
             [
              0.7777777777777778,
              "#fb9f3a"
             ],
             [
              0.8888888888888888,
              "#fdca26"
             ],
             [
              1,
              "#f0f921"
             ]
            ],
            "type": "surface"
           }
          ],
          "table": [
           {
            "cells": {
             "fill": {
              "color": "#EBF0F8"
             },
             "line": {
              "color": "white"
             }
            },
            "header": {
             "fill": {
              "color": "#C8D4E3"
             },
             "line": {
              "color": "white"
             }
            },
            "type": "table"
           }
          ]
         },
         "layout": {
          "annotationdefaults": {
           "arrowcolor": "#2a3f5f",
           "arrowhead": 0,
           "arrowwidth": 1
          },
          "colorscale": {
           "diverging": [
            [
             0,
             "#8e0152"
            ],
            [
             0.1,
             "#c51b7d"
            ],
            [
             0.2,
             "#de77ae"
            ],
            [
             0.3,
             "#f1b6da"
            ],
            [
             0.4,
             "#fde0ef"
            ],
            [
             0.5,
             "#f7f7f7"
            ],
            [
             0.6,
             "#e6f5d0"
            ],
            [
             0.7,
             "#b8e186"
            ],
            [
             0.8,
             "#7fbc41"
            ],
            [
             0.9,
             "#4d9221"
            ],
            [
             1,
             "#276419"
            ]
           ],
           "sequential": [
            [
             0,
             "#0d0887"
            ],
            [
             0.1111111111111111,
             "#46039f"
            ],
            [
             0.2222222222222222,
             "#7201a8"
            ],
            [
             0.3333333333333333,
             "#9c179e"
            ],
            [
             0.4444444444444444,
             "#bd3786"
            ],
            [
             0.5555555555555556,
             "#d8576b"
            ],
            [
             0.6666666666666666,
             "#ed7953"
            ],
            [
             0.7777777777777778,
             "#fb9f3a"
            ],
            [
             0.8888888888888888,
             "#fdca26"
            ],
            [
             1,
             "#f0f921"
            ]
           ],
           "sequentialminus": [
            [
             0,
             "#0d0887"
            ],
            [
             0.1111111111111111,
             "#46039f"
            ],
            [
             0.2222222222222222,
             "#7201a8"
            ],
            [
             0.3333333333333333,
             "#9c179e"
            ],
            [
             0.4444444444444444,
             "#bd3786"
            ],
            [
             0.5555555555555556,
             "#d8576b"
            ],
            [
             0.6666666666666666,
             "#ed7953"
            ],
            [
             0.7777777777777778,
             "#fb9f3a"
            ],
            [
             0.8888888888888888,
             "#fdca26"
            ],
            [
             1,
             "#f0f921"
            ]
           ]
          },
          "colorway": [
           "#636efa",
           "#EF553B",
           "#00cc96",
           "#ab63fa",
           "#FFA15A",
           "#19d3f3",
           "#FF6692",
           "#B6E880",
           "#FF97FF",
           "#FECB52"
          ],
          "font": {
           "color": "#2a3f5f"
          },
          "geo": {
           "bgcolor": "white",
           "lakecolor": "white",
           "landcolor": "#E5ECF6",
           "showlakes": true,
           "showland": true,
           "subunitcolor": "white"
          },
          "hoverlabel": {
           "align": "left"
          },
          "hovermode": "closest",
          "mapbox": {
           "style": "light"
          },
          "paper_bgcolor": "white",
          "plot_bgcolor": "#E5ECF6",
          "polar": {
           "angularaxis": {
            "gridcolor": "white",
            "linecolor": "white",
            "ticks": ""
           },
           "bgcolor": "#E5ECF6",
           "radialaxis": {
            "gridcolor": "white",
            "linecolor": "white",
            "ticks": ""
           }
          },
          "scene": {
           "xaxis": {
            "backgroundcolor": "#E5ECF6",
            "gridcolor": "white",
            "gridwidth": 2,
            "linecolor": "white",
            "showbackground": true,
            "ticks": "",
            "zerolinecolor": "white"
           },
           "yaxis": {
            "backgroundcolor": "#E5ECF6",
            "gridcolor": "white",
            "gridwidth": 2,
            "linecolor": "white",
            "showbackground": true,
            "ticks": "",
            "zerolinecolor": "white"
           },
           "zaxis": {
            "backgroundcolor": "#E5ECF6",
            "gridcolor": "white",
            "gridwidth": 2,
            "linecolor": "white",
            "showbackground": true,
            "ticks": "",
            "zerolinecolor": "white"
           }
          },
          "shapedefaults": {
           "line": {
            "color": "#2a3f5f"
           }
          },
          "ternary": {
           "aaxis": {
            "gridcolor": "white",
            "linecolor": "white",
            "ticks": ""
           },
           "baxis": {
            "gridcolor": "white",
            "linecolor": "white",
            "ticks": ""
           },
           "bgcolor": "#E5ECF6",
           "caxis": {
            "gridcolor": "white",
            "linecolor": "white",
            "ticks": ""
           }
          },
          "title": {
           "x": 0.05
          },
          "xaxis": {
           "automargin": true,
           "gridcolor": "white",
           "linecolor": "white",
           "ticks": "",
           "zerolinecolor": "white",
           "zerolinewidth": 2
          },
          "yaxis": {
           "automargin": true,
           "gridcolor": "white",
           "linecolor": "white",
           "ticks": "",
           "zerolinecolor": "white",
           "zerolinewidth": 2
          }
         }
        },
        "title": {
         "text": "Speed Networkign Pairings:<br>Round #1"
        },
        "width": 1000,
        "xaxis": {
         "autorange": true,
         "range": [
          -0.1670893209354749,
          21.167089320935474
         ],
         "type": "linear"
        },
        "yaxis": {
         "autorange": true,
         "range": [
          0.8371335504885995,
          21.1628664495114
         ],
         "type": "linear"
        }
       }
      },
      "image/png": "[encoded data removed]",
      "text/html": [
       "<div>\n",
       "        \n",
       "        \n",
       "            <div id=\"ad606a8b-db7b-49b0-9496-51325e3ce88f\" class=\"plotly-graph-div\" style=\"height:700px; width:1000px;\"></div>\n",
       "            <script type=\"text/javascript\">\n",
       "                require([\"plotly\"], function(Plotly) {\n",
       "                    window.PLOTLYENV=window.PLOTLYENV || {};\n",
       "                    \n",
       "                if (document.getElementById(\"ad606a8b-db7b-49b0-9496-51325e3ce88f\")) {\n",
       "                    Plotly.newPlot(\n",
       "                        'ad606a8b-db7b-49b0-9496-51325e3ce88f',\n",
       "                        [{\"mode\": \"markers+lines+text\", \"name\": \"cycle 1\", \"opacity\": 0.5, \"text\": [[1.0, 11.0], [2.0, 12.0], [3.0, 13.0], [4.0, 14.0], [5.0, 15.0], [6.0, 16.0], [7.0, 17.0], [8.0, 18.0], [9.0, 19.0], [10.0, 20.0]], \"textposition\": \"top center\", \"type\": \"scatter\", \"x\": [1, 2, 3, 4, 5, 6, 7, 8, 9, 10], \"y\": [11, 12, 13, 14, 15, 16, 17, 18, 19, 20]}, {\"mode\": \"markers+lines+text\", \"name\": \"cycle 2\", \"opacity\": 0.5, \"text\": [[1.0, 12.0], [11.0, 13.0], [2.0, 14.0], [3.0, 15.0], [4.0, 16.0], [5.0, 17.0], [6.0, 18.0], [7.0, 19.0], [8.0, 20.0], [9.0, 10.0]], \"textposition\": \"top center\", \"type\": \"scatter\", \"x\": [1, 11, 2, 3, 4, 5, 6, 7, 8, 9], \"y\": [12, 13, 14, 15, 16, 17, 18, 19, 20, 10]}, {\"mode\": \"markers+lines+text\", \"name\": \"cycle 3\", \"opacity\": 0.5, \"text\": [[1.0, 13.0], [12.0, 14.0], [11.0, 15.0], [2.0, 16.0], [3.0, 17.0], [4.0, 18.0], [5.0, 19.0], [6.0, 20.0], [7.0, 10.0], [8.0, 9.0]], \"textposition\": \"top center\", \"type\": \"scatter\", \"x\": [1, 12, 11, 2, 3, 4, 5, 6, 7, 8], \"y\": [13, 14, 15, 16, 17, 18, 19, 20, 10, 9]}, {\"mode\": \"markers+lines+text\", \"name\": \"cycle 4\", \"opacity\": 0.5, \"text\": [[1.0, 14.0], [13.0, 15.0], [12.0, 16.0], [11.0, 17.0], [2.0, 18.0], [3.0, 19.0], [4.0, 20.0], [5.0, 10.0], [6.0, 9.0], [7.0, 8.0]], \"textposition\": \"top center\", \"type\": \"scatter\", \"x\": [1, 13, 12, 11, 2, 3, 4, 5, 6, 7], \"y\": [14, 15, 16, 17, 18, 19, 20, 10, 9, 8]}, {\"mode\": \"markers+lines+text\", \"name\": \"cycle 5\", \"opacity\": 0.5, \"text\": [[1.0, 15.0], [14.0, 16.0], [13.0, 17.0], [12.0, 18.0], [11.0, 19.0], [2.0, 20.0], [3.0, 10.0], [4.0, 9.0], [5.0, 8.0], [6.0, 7.0]], \"textposition\": \"top center\", \"type\": \"scatter\", \"x\": [1, 14, 13, 12, 11, 2, 3, 4, 5, 6], \"y\": [15, 16, 17, 18, 19, 20, 10, 9, 8, 7]}, {\"mode\": \"markers+lines+text\", \"name\": \"cycle 6\", \"opacity\": 0.5, \"text\": [[1.0, 16.0], [15.0, 17.0], [14.0, 18.0], [13.0, 19.0], [12.0, 20.0], [11.0, 10.0], [2.0, 9.0], [3.0, 8.0], [4.0, 7.0], [5.0, 6.0]], \"textposition\": \"top center\", \"type\": \"scatter\", \"x\": [1, 15, 14, 13, 12, 11, 2, 3, 4, 5], \"y\": [16, 17, 18, 19, 20, 10, 9, 8, 7, 6]}, {\"mode\": \"markers+lines+text\", \"name\": \"cycle 7\", \"opacity\": 0.5, \"text\": [[1.0, 17.0], [16.0, 18.0], [15.0, 19.0], [14.0, 20.0], [13.0, 10.0], [12.0, 9.0], [11.0, 8.0], [2.0, 7.0], [3.0, 6.0], [4.0, 5.0]], \"textposition\": \"top center\", \"type\": \"scatter\", \"x\": [1, 16, 15, 14, 13, 12, 11, 2, 3, 4], \"y\": [17, 18, 19, 20, 10, 9, 8, 7, 6, 5]}, {\"mode\": \"markers+lines+text\", \"name\": \"cycle 8\", \"opacity\": 0.5, \"text\": [[1.0, 18.0], [17.0, 19.0], [16.0, 20.0], [15.0, 10.0], [14.0, 9.0], [13.0, 8.0], [12.0, 7.0], [11.0, 6.0], [2.0, 5.0], [3.0, 4.0]], \"textposition\": \"top center\", \"type\": \"scatter\", \"x\": [1, 17, 16, 15, 14, 13, 12, 11, 2, 3], \"y\": [18, 19, 20, 10, 9, 8, 7, 6, 5, 4]}, {\"mode\": \"markers+lines+text\", \"name\": \"cycle 9\", \"opacity\": 0.5, \"text\": [[1.0, 19.0], [18.0, 20.0], [17.0, 10.0], [16.0, 9.0], [15.0, 8.0], [14.0, 7.0], [13.0, 6.0], [12.0, 5.0], [11.0, 4.0], [2.0, 3.0]], \"textposition\": \"top center\", \"type\": \"scatter\", \"x\": [1, 18, 17, 16, 15, 14, 13, 12, 11, 2], \"y\": [19, 20, 10, 9, 8, 7, 6, 5, 4, 3]}, {\"mode\": \"markers+lines+text\", \"name\": \"cycle 10\", \"opacity\": 0.5, \"text\": [[1.0, 20.0], [19.0, 10.0], [18.0, 9.0], [17.0, 8.0], [16.0, 7.0], [15.0, 6.0], [14.0, 5.0], [13.0, 4.0], [12.0, 3.0], [11.0, 2.0]], \"textposition\": \"top center\", \"type\": \"scatter\", \"x\": [1, 19, 18, 17, 16, 15, 14, 13, 12, 11], \"y\": [20, 10, 9, 8, 7, 6, 5, 4, 3, 2]}, {\"mode\": \"markers+lines+text\", \"name\": \"cycle 11\", \"opacity\": 0.5, \"text\": [[1.0, 10.0], [20.0, 9.0], [19.0, 8.0], [18.0, 7.0], [17.0, 6.0], [16.0, 5.0], [15.0, 4.0], [14.0, 3.0], [13.0, 2.0], [12.0, 11.0]], \"textposition\": \"top center\", \"type\": \"scatter\", \"x\": [1, 20, 19, 18, 17, 16, 15, 14, 13, 12], \"y\": [10, 9, 8, 7, 6, 5, 4, 3, 2, 11]}, {\"mode\": \"markers+lines+text\", \"name\": \"cycle 12\", \"opacity\": 0.5, \"text\": [[1.0, 9.0], [10.0, 8.0], [20.0, 7.0], [19.0, 6.0], [18.0, 5.0], [17.0, 4.0], [16.0, 3.0], [15.0, 2.0], [14.0, 11.0], [13.0, 12.0]], \"textposition\": \"top center\", \"type\": \"scatter\", \"x\": [1, 10, 20, 19, 18, 17, 16, 15, 14, 13], \"y\": [9, 8, 7, 6, 5, 4, 3, 2, 11, 12]}, {\"mode\": \"markers+lines+text\", \"name\": \"cycle 13\", \"opacity\": 0.5, \"text\": [[1.0, 8.0], [9.0, 7.0], [10.0, 6.0], [20.0, 5.0], [19.0, 4.0], [18.0, 3.0], [17.0, 2.0], [16.0, 11.0], [15.0, 12.0], [14.0, 13.0]], \"textposition\": \"top center\", \"type\": \"scatter\", \"x\": [1, 9, 10, 20, 19, 18, 17, 16, 15, 14], \"y\": [8, 7, 6, 5, 4, 3, 2, 11, 12, 13]}, {\"mode\": \"markers+lines+text\", \"name\": \"cycle 14\", \"opacity\": 0.5, \"text\": [[1.0, 7.0], [8.0, 6.0], [9.0, 5.0], [10.0, 4.0], [20.0, 3.0], [19.0, 2.0], [18.0, 11.0], [17.0, 12.0], [16.0, 13.0], [15.0, 14.0]], \"textposition\": \"top center\", \"type\": \"scatter\", \"x\": [1, 8, 9, 10, 20, 19, 18, 17, 16, 15], \"y\": [7, 6, 5, 4, 3, 2, 11, 12, 13, 14]}, {\"mode\": \"markers+lines+text\", \"name\": \"cycle 15\", \"opacity\": 0.5, \"text\": [[1.0, 6.0], [7.0, 5.0], [8.0, 4.0], [9.0, 3.0], [10.0, 2.0], [20.0, 11.0], [19.0, 12.0], [18.0, 13.0], [17.0, 14.0], [16.0, 15.0]], \"textposition\": \"top center\", \"type\": \"scatter\", \"x\": [1, 7, 8, 9, 10, 20, 19, 18, 17, 16], \"y\": [6, 5, 4, 3, 2, 11, 12, 13, 14, 15]}, {\"mode\": \"markers+lines+text\", \"name\": \"cycle 16\", \"opacity\": 0.5, \"text\": [[1.0, 5.0], [6.0, 4.0], [7.0, 3.0], [8.0, 2.0], [9.0, 11.0], [10.0, 12.0], [20.0, 13.0], [19.0, 14.0], [18.0, 15.0], [17.0, 16.0]], \"textposition\": \"top center\", \"type\": \"scatter\", \"x\": [1, 6, 7, 8, 9, 10, 20, 19, 18, 17], \"y\": [5, 4, 3, 2, 11, 12, 13, 14, 15, 16]}, {\"mode\": \"markers+lines+text\", \"name\": \"cycle 17\", \"opacity\": 0.5, \"text\": [[1.0, 4.0], [5.0, 3.0], [6.0, 2.0], [7.0, 11.0], [8.0, 12.0], [9.0, 13.0], [10.0, 14.0], [20.0, 15.0], [19.0, 16.0], [18.0, 17.0]], \"textposition\": \"top center\", \"type\": \"scatter\", \"x\": [1, 5, 6, 7, 8, 9, 10, 20, 19, 18], \"y\": [4, 3, 2, 11, 12, 13, 14, 15, 16, 17]}, {\"mode\": \"markers+lines+text\", \"name\": \"cycle 18\", \"opacity\": 0.5, \"text\": [[1.0, 3.0], [4.0, 2.0], [5.0, 11.0], [6.0, 12.0], [7.0, 13.0], [8.0, 14.0], [9.0, 15.0], [10.0, 16.0], [20.0, 17.0], [19.0, 18.0]], \"textposition\": \"top center\", \"type\": \"scatter\", \"x\": [1, 4, 5, 6, 7, 8, 9, 10, 20, 19], \"y\": [3, 2, 11, 12, 13, 14, 15, 16, 17, 18]}, {\"mode\": \"markers+lines+text\", \"name\": \"cycle 19\", \"opacity\": 0.5, \"text\": [[1.0, 2.0], [3.0, 11.0], [4.0, 12.0], [5.0, 13.0], [6.0, 14.0], [7.0, 15.0], [8.0, 16.0], [9.0, 17.0], [10.0, 18.0], [20.0, 19.0]], \"textposition\": \"top center\", \"type\": \"scatter\", \"x\": [1, 3, 4, 5, 6, 7, 8, 9, 10, 20], \"y\": [2, 11, 12, 13, 14, 15, 16, 17, 18, 19]}],\n",
       "                        {\"autosize\": false, \"height\": 700, \"template\": {\"data\": {\"bar\": [{\"error_x\": {\"color\": \"#2a3f5f\"}, \"error_y\": {\"color\": \"#2a3f5f\"}, \"marker\": {\"line\": {\"color\": \"#E5ECF6\", \"width\": 0.5}}, \"type\": \"bar\"}], \"barpolar\": [{\"marker\": {\"line\": {\"color\": \"#E5ECF6\", \"width\": 0.5}}, \"type\": \"barpolar\"}], \"carpet\": [{\"aaxis\": {\"endlinecolor\": \"#2a3f5f\", \"gridcolor\": \"white\", \"linecolor\": \"white\", \"minorgridcolor\": \"white\", \"startlinecolor\": \"#2a3f5f\"}, \"baxis\": {\"endlinecolor\": \"#2a3f5f\", \"gridcolor\": \"white\", \"linecolor\": \"white\", \"minorgridcolor\": \"white\", \"startlinecolor\": \"#2a3f5f\"}, \"type\": \"carpet\"}], \"choropleth\": [{\"colorbar\": {\"outlinewidth\": 0, \"ticks\": \"\"}, \"type\": \"choropleth\"}], \"contour\": [{\"colorbar\": {\"outlinewidth\": 0, \"ticks\": \"\"}, \"colorscale\": [[0.0, \"#0d0887\"], [0.1111111111111111, \"#46039f\"], [0.2222222222222222, \"#7201a8\"], [0.3333333333333333, \"#9c179e\"], [0.4444444444444444, \"#bd3786\"], [0.5555555555555556, \"#d8576b\"], [0.6666666666666666, \"#ed7953\"], [0.7777777777777778, \"#fb9f3a\"], [0.8888888888888888, \"#fdca26\"], [1.0, \"#f0f921\"]], \"type\": \"contour\"}], \"contourcarpet\": [{\"colorbar\": {\"outlinewidth\": 0, \"ticks\": \"\"}, \"type\": \"contourcarpet\"}], \"heatmap\": [{\"colorbar\": {\"outlinewidth\": 0, \"ticks\": \"\"}, \"colorscale\": [[0.0, \"#0d0887\"], [0.1111111111111111, \"#46039f\"], [0.2222222222222222, \"#7201a8\"], [0.3333333333333333, \"#9c179e\"], [0.4444444444444444, \"#bd3786\"], [0.5555555555555556, \"#d8576b\"], [0.6666666666666666, \"#ed7953\"], [0.7777777777777778, \"#fb9f3a\"], [0.8888888888888888, \"#fdca26\"], [1.0, \"#f0f921\"]], \"type\": \"heatmap\"}], \"heatmapgl\": [{\"colorbar\": {\"outlinewidth\": 0, \"ticks\": \"\"}, \"colorscale\": [[0.0, \"#0d0887\"], [0.1111111111111111, \"#46039f\"], [0.2222222222222222, \"#7201a8\"], [0.3333333333333333, \"#9c179e\"], [0.4444444444444444, \"#bd3786\"], [0.5555555555555556, \"#d8576b\"], [0.6666666666666666, \"#ed7953\"], [0.7777777777777778, \"#fb9f3a\"], [0.8888888888888888, \"#fdca26\"], [1.0, \"#f0f921\"]], \"type\": \"heatmapgl\"}], \"histogram\": [{\"marker\": {\"colorbar\": {\"outlinewidth\": 0, \"ticks\": \"\"}}, \"type\": \"histogram\"}], \"histogram2d\": [{\"colorbar\": {\"outlinewidth\": 0, \"ticks\": \"\"}, \"colorscale\": [[0.0, \"#0d0887\"], [0.1111111111111111, \"#46039f\"], [0.2222222222222222, \"#7201a8\"], [0.3333333333333333, \"#9c179e\"], [0.4444444444444444, \"#bd3786\"], [0.5555555555555556, \"#d8576b\"], [0.6666666666666666, \"#ed7953\"], [0.7777777777777778, \"#fb9f3a\"], [0.8888888888888888, \"#fdca26\"], [1.0, \"#f0f921\"]], \"type\": \"histogram2d\"}], \"histogram2dcontour\": [{\"colorbar\": {\"outlinewidth\": 0, \"ticks\": \"\"}, \"colorscale\": [[0.0, \"#0d0887\"], [0.1111111111111111, \"#46039f\"], [0.2222222222222222, \"#7201a8\"], [0.3333333333333333, \"#9c179e\"], [0.4444444444444444, \"#bd3786\"], [0.5555555555555556, \"#d8576b\"], [0.6666666666666666, \"#ed7953\"], [0.7777777777777778, \"#fb9f3a\"], [0.8888888888888888, \"#fdca26\"], [1.0, \"#f0f921\"]], \"type\": \"histogram2dcontour\"}], \"mesh3d\": [{\"colorbar\": {\"outlinewidth\": 0, \"ticks\": \"\"}, \"type\": \"mesh3d\"}], \"parcoords\": [{\"line\": {\"colorbar\": {\"outlinewidth\": 0, \"ticks\": \"\"}}, \"type\": \"parcoords\"}], \"scatter\": [{\"marker\": {\"colorbar\": {\"outlinewidth\": 0, \"ticks\": \"\"}}, \"type\": \"scatter\"}], \"scatter3d\": [{\"line\": {\"colorbar\": {\"outlinewidth\": 0, \"ticks\": \"\"}}, \"marker\": {\"colorbar\": {\"outlinewidth\": 0, \"ticks\": \"\"}}, \"type\": \"scatter3d\"}], \"scattercarpet\": [{\"marker\": {\"colorbar\": {\"outlinewidth\": 0, \"ticks\": \"\"}}, \"type\": \"scattercarpet\"}], \"scattergeo\": [{\"marker\": {\"colorbar\": {\"outlinewidth\": 0, \"ticks\": \"\"}}, \"type\": \"scattergeo\"}], \"scattergl\": [{\"marker\": {\"colorbar\": {\"outlinewidth\": 0, \"ticks\": \"\"}}, \"type\": \"scattergl\"}], \"scattermapbox\": [{\"marker\": {\"colorbar\": {\"outlinewidth\": 0, \"ticks\": \"\"}}, \"type\": \"scattermapbox\"}], \"scatterpolar\": [{\"marker\": {\"colorbar\": {\"outlinewidth\": 0, \"ticks\": \"\"}}, \"type\": \"scatterpolar\"}], \"scatterpolargl\": [{\"marker\": {\"colorbar\": {\"outlinewidth\": 0, \"ticks\": \"\"}}, \"type\": \"scatterpolargl\"}], \"scatterternary\": [{\"marker\": {\"colorbar\": {\"outlinewidth\": 0, \"ticks\": \"\"}}, \"type\": \"scatterternary\"}], \"surface\": [{\"colorbar\": {\"outlinewidth\": 0, \"ticks\": \"\"}, \"colorscale\": [[0.0, \"#0d0887\"], [0.1111111111111111, \"#46039f\"], [0.2222222222222222, \"#7201a8\"], [0.3333333333333333, \"#9c179e\"], [0.4444444444444444, \"#bd3786\"], [0.5555555555555556, \"#d8576b\"], [0.6666666666666666, \"#ed7953\"], [0.7777777777777778, \"#fb9f3a\"], [0.8888888888888888, \"#fdca26\"], [1.0, \"#f0f921\"]], \"type\": \"surface\"}], \"table\": [{\"cells\": {\"fill\": {\"color\": \"#EBF0F8\"}, \"line\": {\"color\": \"white\"}}, \"header\": {\"fill\": {\"color\": \"#C8D4E3\"}, \"line\": {\"color\": \"white\"}}, \"type\": \"table\"}]}, \"layout\": {\"annotationdefaults\": {\"arrowcolor\": \"#2a3f5f\", \"arrowhead\": 0, \"arrowwidth\": 1}, \"colorscale\": {\"diverging\": [[0, \"#8e0152\"], [0.1, \"#c51b7d\"], [0.2, \"#de77ae\"], [0.3, \"#f1b6da\"], [0.4, \"#fde0ef\"], [0.5, \"#f7f7f7\"], [0.6, \"#e6f5d0\"], [0.7, \"#b8e186\"], [0.8, \"#7fbc41\"], [0.9, \"#4d9221\"], [1, \"#276419\"]], \"sequential\": [[0.0, \"#0d0887\"], [0.1111111111111111, \"#46039f\"], [0.2222222222222222, \"#7201a8\"], [0.3333333333333333, \"#9c179e\"], [0.4444444444444444, \"#bd3786\"], [0.5555555555555556, \"#d8576b\"], [0.6666666666666666, \"#ed7953\"], [0.7777777777777778, \"#fb9f3a\"], [0.8888888888888888, \"#fdca26\"], [1.0, \"#f0f921\"]], \"sequentialminus\": [[0.0, \"#0d0887\"], [0.1111111111111111, \"#46039f\"], [0.2222222222222222, \"#7201a8\"], [0.3333333333333333, \"#9c179e\"], [0.4444444444444444, \"#bd3786\"], [0.5555555555555556, \"#d8576b\"], [0.6666666666666666, \"#ed7953\"], [0.7777777777777778, \"#fb9f3a\"], [0.8888888888888888, \"#fdca26\"], [1.0, \"#f0f921\"]]}, \"colorway\": [\"#636efa\", \"#EF553B\", \"#00cc96\", \"#ab63fa\", \"#FFA15A\", \"#19d3f3\", \"#FF6692\", \"#B6E880\", \"#FF97FF\", \"#FECB52\"], \"font\": {\"color\": \"#2a3f5f\"}, \"geo\": {\"bgcolor\": \"white\", \"lakecolor\": \"white\", \"landcolor\": \"#E5ECF6\", \"showlakes\": true, \"showland\": true, \"subunitcolor\": \"white\"}, \"hoverlabel\": {\"align\": \"left\"}, \"hovermode\": \"closest\", \"mapbox\": {\"style\": \"light\"}, \"paper_bgcolor\": \"white\", \"plot_bgcolor\": \"#E5ECF6\", \"polar\": {\"angularaxis\": {\"gridcolor\": \"white\", \"linecolor\": \"white\", \"ticks\": \"\"}, \"bgcolor\": \"#E5ECF6\", \"radialaxis\": {\"gridcolor\": \"white\", \"linecolor\": \"white\", \"ticks\": \"\"}}, \"scene\": {\"xaxis\": {\"backgroundcolor\": \"#E5ECF6\", \"gridcolor\": \"white\", \"gridwidth\": 2, \"linecolor\": \"white\", \"showbackground\": true, \"ticks\": \"\", \"zerolinecolor\": \"white\"}, \"yaxis\": {\"backgroundcolor\": \"#E5ECF6\", \"gridcolor\": \"white\", \"gridwidth\": 2, \"linecolor\": \"white\", \"showbackground\": true, \"ticks\": \"\", \"zerolinecolor\": \"white\"}, \"zaxis\": {\"backgroundcolor\": \"#E5ECF6\", \"gridcolor\": \"white\", \"gridwidth\": 2, \"linecolor\": \"white\", \"showbackground\": true, \"ticks\": \"\", \"zerolinecolor\": \"white\"}}, \"shapedefaults\": {\"line\": {\"color\": \"#2a3f5f\"}}, \"ternary\": {\"aaxis\": {\"gridcolor\": \"white\", \"linecolor\": \"white\", \"ticks\": \"\"}, \"baxis\": {\"gridcolor\": \"white\", \"linecolor\": \"white\", \"ticks\": \"\"}, \"bgcolor\": \"#E5ECF6\", \"caxis\": {\"gridcolor\": \"white\", \"linecolor\": \"white\", \"ticks\": \"\"}}, \"title\": {\"x\": 0.05}, \"xaxis\": {\"automargin\": true, \"gridcolor\": \"white\", \"linecolor\": \"white\", \"ticks\": \"\", \"zerolinecolor\": \"white\", \"zerolinewidth\": 2}, \"yaxis\": {\"automargin\": true, \"gridcolor\": \"white\", \"linecolor\": \"white\", \"ticks\": \"\", \"zerolinecolor\": \"white\", \"zerolinewidth\": 2}}}, \"title\": {\"text\": \"Speed Networkign Pairings:<br>Round #1\"}, \"width\": 1000},\n",
       "                        {\"responsive\": true}\n",
       "                    ).then(function(){\n",
       "                            \n",
       "var gd = document.getElementById('ad606a8b-db7b-49b0-9496-51325e3ce88f');\n",
       "var x = new MutationObserver(function (mutations, observer) {{\n",
       "        var display = window.getComputedStyle(gd).display;\n",
       "        if (!display || display === 'none') {{\n",
       "            console.log([gd, 'removed!']);\n",
       "            Plotly.purge(gd);\n",
       "            observer.disconnect();\n",
       "        }}\n",
       "}});\n",
       "\n",
       "// Listen for the removal of the full notebook cells\n",
       "var notebookContainer = gd.closest('#notebook-container');\n",
       "if (notebookContainer) {{\n",
       "    x.observe(notebookContainer, {childList: true});\n",
       "}}\n",
       "\n",
       "// Listen for the clearing of the current output cell\n",
       "var outputEl = gd.closest('.output');\n",
       "if (outputEl) {{\n",
       "    x.observe(outputEl, {childList: true});\n",
       "}}\n",
       "\n",
       "                        })\n",
       "                };\n",
       "                });\n",
       "            </script>\n",
       "        </div>"
      ]
     },
     "metadata": {},
     "output_type": "display_data"
    }
   ],
   "source": [
    "iplot({\n",
    "    'data':[{'type':'scatter',\n",
    "            'x': round_pairings[R][:,0],\n",
    "            'y': round_pairings[R][:,1],\n",
    "            'text':round_pairings[R],\n",
    "             'textposition':'top center',\n",
    "            'opacity':0.5,\n",
    "            'mode':'markers+lines+text',\n",
    "            'name':f'cycle {R}'} for R in range(1,20)],\n",
    "    'layout':{'title':f\"Speed Networkign Pairings:<br>Round #{R}\",\n",
    "             'autosize':False,\n",
    "             'width':1000,\n",
    "             'height':700}\n",
    "})"
   ]
  },
  {
   "cell_type": "code",
   "execution_count": 379,
   "metadata": {},
   "outputs": [],
   "source": [
    "def show_pairings(R):\n",
    "    return round_pairings[R]"
   ]
  },
  {
   "cell_type": "code",
   "execution_count": 389,
   "metadata": {},
   "outputs": [
    {
     "data": {
      "application/vnd.jupyter.widget-view+json": {
       "model_id": "922a32e728be4440bf1baf0478067181",
       "version_major": 2,
       "version_minor": 0
      },
      "text/plain": [
       "interactive(children=(IntSlider(value=10, description='R', max=19, min=1), Output()), _dom_classes=('widget-in…"
      ]
     },
     "metadata": {},
     "output_type": "display_data"
    },
    {
     "data": {
      "text/plain": [
       "<function __main__.show_pairings(R)>"
      ]
     },
     "execution_count": 389,
     "metadata": {},
     "output_type": "execute_result"
    }
   ],
   "source": [
    "interact(show_pairings,R=(1,19,1))"
   ]
  },
  {
   "cell_type": "code",
   "execution_count": 439,
   "metadata": {},
   "outputs": [
    {
     "data": {
      "application/vnd.jupyter.widget-view+json": {
       "model_id": "6e76396e1f374667950b25c2b91dade3",
       "version_major": 2,
       "version_minor": 0
      },
      "text/plain": [
       "interactive(children=(IntSlider(value=10, description='R', max=19, min=1), Output()), _dom_classes=('widget-in…"
      ]
     },
     "metadata": {},
     "output_type": "display_data"
    },
    {
     "data": {
      "text/plain": [
       "<function __main__.cycle_plot(R)>"
      ]
     },
     "execution_count": 439,
     "metadata": {},
     "output_type": "execute_result"
    }
   ],
   "source": [
    "interact(cycle_plot, R=(1,19))"
   ]
  },
  {
   "cell_type": "code",
   "execution_count": 445,
   "metadata": {},
   "outputs": [
    {
     "data": {
      "text/plain": [
       "(array([1]), array([1]))"
      ]
     },
     "execution_count": 445,
     "metadata": {},
     "output_type": "execute_result"
    }
   ],
   "source": [
    "np.where(round_pairings[18] == 2)"
   ]
  },
  {
   "cell_type": "code",
   "execution_count": null,
   "metadata": {},
   "outputs": [],
   "source": []
  }
 ],
 "metadata": {
  "kernelspec": {
   "display_name": "Python 3",
   "language": "python",
   "name": "python3"
  },
  "language_info": {
   "codemirror_mode": {
    "name": "ipython",
    "version": 3
   },
   "file_extension": ".py",
   "mimetype": "text/x-python",
   "name": "python",
   "nbconvert_exporter": "python",
   "pygments_lexer": "ipython3",
   "version": "3.7.3"
  }
 },
 "nbformat": 4,
 "nbformat_minor": 4
}
